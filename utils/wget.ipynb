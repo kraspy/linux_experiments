{
 "cells": [
  {
   "cell_type": "markdown",
   "id": "0c950938",
   "metadata": {},
   "source": [
    "```bash\n",
    "wget link-to-file\n",
    "wget -r -k -p -l 7 -E -nc https://site.ru\n",
    "-r                 # Рекурсивный переход по ссылкам\n",
    "-k                 # Преобразование ссылок в локальные\n",
    "-p                 # Загружать все файлы по ходу\n",
    "-l <num>           # Глубина вложенности. default: 5\n",
    "-E                 # Добавлять к имени файлов \".html\"\n",
    "-nc                # Не заменять существующие файлы\n",
    "--reject=png       # Пропускать файлы png\n",
    "-c                 # Продолжить с момента обрыва\n",
    "-t <num>           # Количество попыток\n",
    "--limit-rate=512k  # Ограничение скорости\n",
    "-O <newName>       # Изменить имя файла\n",
    "-b                 # Фоновая загрузка\n",
    "-i list.txt        # Загрузить несколько файлов (из list.txt)\n",
    "-t                 # Количество попыток\n",
    "-q                 # Не показывать вывод\n",
    "--ftp-user=user --ftp-password=pass <ftp-url>\n",
    "```"
   ]
  }
 ],
 "metadata": {
  "language_info": {
   "name": "python"
  }
 },
 "nbformat": 4,
 "nbformat_minor": 5
}
