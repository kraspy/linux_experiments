{
 "cells": [
  {
   "cell_type": "markdown",
   "id": "a3659ebd",
   "metadata": {},
   "source": [
    "```sh\n",
    "crontab -e  # Редактировать\n",
    "crontab -l  # Задания текущего пользователя (с sudo - root)\n",
    "```\n",
    "\n",
    "## Формат\n",
    "```sh\n",
    "*      # Все\n",
    "1,2,3  # Перечисление\n",
    "1-5    # Диапазон\n",
    "*/n    # Шаг\n",
    "```"
   ]
  },
  {
   "cell_type": "markdown",
   "id": "07df7678",
   "metadata": {},
   "source": [
    "## Примеры"
   ]
  },
  {
   "cell_type": "markdown",
   "id": "b94e6c75",
   "metadata": {},
   "source": [
    "### Интервалы\n",
    "```sh\n",
    "# Ежечасно\n",
    "@hourly /path/to/cmd.sh\n",
    "\n",
    "# Ежедневно (в полночь)\n",
    "@daily /path/to/cmd.sh\n",
    "\n",
    "# Еженедельно (воскресенье, полночь)\n",
    "@weekly /path/to/cmd.sh\n",
    "\n",
    "# Ежемесячно (1-го, полночь)\n",
    "@monthly /path/to/cmd.sh\n",
    "\n",
    "# Ежегодно (1 января, полночь)\n",
    "@yearly /path/to/cmd.sh"
   ]
  },
  {
   "cell_type": "markdown",
   "id": "33cdcbc4",
   "metadata": {},
   "source": [
    "## Интервалы (тонкая настройка)\n",
    "```sh\n",
    "# Каждые 5 минут\n",
    "*/5 * * * * /path/to/cmd.sh\n",
    "\n",
    "# Каждый день в 03:30\n",
    "30 3 * * * /path/to/cmd.sh\n",
    "\n",
    "# По будням в 09:00\n",
    "0 9 * * 1-5 /path/to/cmd.sh\n",
    "\n",
    "# Каждые 2 минуты с логированием (append)\n",
    "*/2 * * * * /usr/bin/php /opt/app/cron.php >> /var/log/cron/app.log 2>&1\n",
    "\n",
    "# Каждые 10 минут только в рабочие часы (8:00–18:59)\n",
    "*/10 8-18 * * * /path/to/cmd.sh\n",
    "\n",
    "# В первый понедельник месяца в 07:00\n",
    "0 7 1-7 * 1 /path/to/cmd.sh\n",
    "\n",
    "# 1 и 15 числа месяца в 21:15\n",
    "15 21 1,15 * * /path/to/cmd.sh\n",
    "\n",
    "# 5 апреля в 00:01 каждый год\n",
    "1 0 5 4 * /path/to/cmd.sh\n",
    "\n",
    "# В августе ежедневно в 00:05\n",
    "5 0 * 8 * /path/to/cmd.sh\n",
    "\n",
    "# Каждые 3 часа ровно в начале часа\n",
    "0 */3 * * * /path/to/cmd.sh\n",
    "\n",
    "# Через шаг по минутам: первые 10 минут, каждые 2 минуты (0,2,4,6,8,10)\n",
    "0-10/2 * * * * /path/to/cmd.sh\n",
    "```"
   ]
  },
  {
   "cell_type": "markdown",
   "id": "2b7b0561",
   "metadata": {},
   "source": [
    "## Прочие"
   ]
  },
  {
   "cell_type": "markdown",
   "id": "36c8ac01",
   "metadata": {},
   "source": [
    "```sh\n",
    "# Установка переменных окружения для задачи\n",
    "HOME=/opt/app PATH=/usr/local/sbin:/usr/local/bin:/usr/sbin:/usr/bin SHELL=/bin/bash\n",
    "0 0 * * * /path/to/cmd.sh\n",
    "\n",
    "# Запуск после перезагрузки\n",
    "@reboot /path/to/cmd.sh\n",
    "\n",
    "# Две команды подряд по понедельникам в 15:00\n",
    "0 15 * * 1 /path/to/cmd_1.sh && /path/to/cmd_2.sh\n",
    "\n",
    "# Условный запуск (только если есть сеть)\n",
    "*/5 * * * * /usr/bin/ping -c1 1.1.1.1 >/dev/null 2>&1 && /pat`h/to/cmd.sh\n",
    "\n",
    "# Пример с пользовательским crontab root (в системном /etc/crontab нужен user)\n",
    "0 2 * * * root /path/to/cmd.sh\n",
    "\n",
    "# Python-скрипт из venv\n",
    "0 6 * * * /path/to/.venv/bin/python /path/to/report.py >> /var/log/app/report.log 2>&1\n",
    "\n",
    "# Очистка /tmp по воскресеньям в 02:00\n",
    "0 2 * * 0 /usr/bin/find /tmp -type f -mtime +3 -delete\n",
    "```"
   ]
  }
 ],
 "metadata": {
  "language_info": {
   "name": "python"
  }
 },
 "nbformat": 4,
 "nbformat_minor": 5
}
