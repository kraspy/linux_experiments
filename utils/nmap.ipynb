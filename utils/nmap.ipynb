{
 "cells": [
  {
   "cell_type": "code",
   "execution_count": null,
   "id": "26f3fb68",
   "metadata": {
    "vscode": {
     "languageId": "shellscript"
    }
   },
   "outputs": [],
   "source": [
    "## Сканировать Отдельный IP Адрес\n",
    "!nmap 192.168.2.1"
   ]
  },
  {
   "cell_type": "code",
   "execution_count": null,
   "id": "17ba60b7",
   "metadata": {
    "vscode": {
     "languageId": "shellscript"
    }
   },
   "outputs": [],
   "source": [
    "## Сканировать сервер по Имени Хоста\n",
    "!nmap server.shellhacks.com"
   ]
  },
  {
   "cell_type": "code",
   "execution_count": null,
   "id": "10896143",
   "metadata": {
    "vscode": {
     "languageId": "shellscript"
    }
   },
   "outputs": [],
   "source": [
    "## Увеличить Уровень Детализации результатов сканирования\n",
    "!nmap -v server.shellhacks.com\n",
    "!nmap -vv server.shellhacks.com"
   ]
  },
  {
   "cell_type": "code",
   "execution_count": null,
   "id": "b6a55536",
   "metadata": {
    "vscode": {
     "languageId": "shellscript"
    }
   },
   "outputs": [],
   "source": [
    "## Сканировать Множество IP Адресов:\n",
    "!nmap 192.168.2.1 192.168.2.2 192.168.2.3\n",
    "!nmap 192.168.2.1,2,3\n",
    "!nmap 192.168.2.0-200"
   ]
  },
  {
   "cell_type": "code",
   "execution_count": null,
   "id": "eaeb2c42",
   "metadata": {
    "vscode": {
     "languageId": "shellscript"
    }
   },
   "outputs": [],
   "source": [
    "## Cканировать Подсеть:\n",
    "!nmap 192.168.2.0/24\n",
    "!nmap 192.168.2.*"
   ]
  },
  {
   "cell_type": "code",
   "execution_count": null,
   "id": "ce055abf",
   "metadata": {
    "vscode": {
     "languageId": "shellscript"
    }
   },
   "outputs": [],
   "source": [
    "## Активные компы\n",
    "!echo 192.168.2.{1..254} | xargs -n1 -P0 ping -c1 | grep \"bytes from\"\n",
    "!nmap -sn 192.168.2.0/24"
   ]
  },
  {
   "cell_type": "code",
   "execution_count": null,
   "id": "71df3382",
   "metadata": {
    "vscode": {
     "languageId": "shellscript"
    }
   },
   "outputs": [],
   "source": [
    "## Сканировать хосты из файла\n",
    "!nmap -iL input.txt"
   ]
  },
  {
   "cell_type": "code",
   "execution_count": null,
   "id": "de456f8e",
   "metadata": {
    "vscode": {
     "languageId": "shellscript"
    }
   },
   "outputs": [],
   "source": [
    "## Исключить из сканирования\n",
    "!nmap 192.168.2.0/24 --exclude 192.168.2.1"
   ]
  },
  {
   "cell_type": "code",
   "execution_count": null,
   "id": "2fd966f3",
   "metadata": {
    "vscode": {
     "languageId": "shellscript"
    }
   },
   "outputs": [],
   "source": [
    "## Сканировать несколько портов\n",
    "!nmap -p 80,443 192.168.2.1\n",
    "!nmap -p 80-1000 192.168.2.1\n",
    "!nmap --top-ports 5 192.168.2.1"
   ]
  },
  {
   "cell_type": "code",
   "execution_count": null,
   "id": "516e66c5",
   "metadata": {
    "vscode": {
     "languageId": "shellscript"
    }
   },
   "outputs": [],
   "source": [
    "## Определить доступные протоколы\n",
    "!nmap -sO 192.168.2.1"
   ]
  },
  {
   "cell_type": "code",
   "execution_count": null,
   "id": "12f97d4d",
   "metadata": {
    "vscode": {
     "languageId": "shellscript"
    }
   },
   "outputs": [],
   "source": [
    "## Сканировать TCP\n",
    "!nmap -sT 192.168.2.1 -p 80-1000"
   ]
  },
  {
   "cell_type": "code",
   "execution_count": null,
   "id": "b0a3f66f",
   "metadata": {
    "vscode": {
     "languageId": "shellscript"
    }
   },
   "outputs": [],
   "source": [
    "## Сканировать UDP\n",
    "!nmap -sU 192.168.2.1 -p 80-1000"
   ]
  },
  {
   "cell_type": "code",
   "execution_count": null,
   "id": "dfacbebf",
   "metadata": {
    "vscode": {
     "languageId": "shellscript"
    }
   },
   "outputs": [],
   "source": [
    "## Причина состояния порта\n",
    "!nmap --reason 192.168.2.1"
   ]
  },
  {
   "cell_type": "code",
   "execution_count": null,
   "id": "79508ed2",
   "metadata": {
    "vscode": {
     "languageId": "shellscript"
    }
   },
   "outputs": [],
   "source": [
    "## Открытые порты\n",
    "!nmap --open 192.168.2.1"
   ]
  },
  {
   "cell_type": "code",
   "execution_count": null,
   "id": "1ff7675c",
   "metadata": {
    "vscode": {
     "languageId": "shellscript"
    }
   },
   "outputs": [],
   "source": [
    "## Определить ОС\n",
    "!nmap -O 192.168.2.1"
   ]
  },
  {
   "cell_type": "code",
   "execution_count": null,
   "id": "4da17df4",
   "metadata": {
    "vscode": {
     "languageId": "shellscript"
    }
   },
   "outputs": [],
   "source": [
    "## Определить версию сервисов\n",
    "!nmap -sV 192.168.2.1"
   ]
  },
  {
   "cell_type": "code",
   "execution_count": null,
   "id": "30b49f27",
   "metadata": {
    "vscode": {
     "languageId": "shellscript"
    }
   },
   "outputs": [],
   "source": [
    "## Защищен ли ПК файрволом\n",
    "!nmap -sA 192.168.2.1"
   ]
  },
  {
   "cell_type": "code",
   "execution_count": null,
   "id": "66f8e734",
   "metadata": {
    "vscode": {
     "languageId": "shellscript"
    }
   },
   "outputs": [],
   "source": [
    "## Подмена MAC\n",
    "!nmap --spoof-mac 0 192.168.2.1\n",
    "!nmap --spoof-mac 00:11:22:33:44:55 192.168.2.1"
   ]
  }
 ],
 "metadata": {
  "kernelspec": {
   "display_name": "linux_experiments",
   "language": "python",
   "name": "python3"
  },
  "language_info": {
   "codemirror_mode": {
    "name": "ipython",
    "version": 3
   },
   "file_extension": ".py",
   "mimetype": "text/x-python",
   "name": "python",
   "nbconvert_exporter": "python",
   "pygments_lexer": "ipython3",
   "version": "3.12.10"
  }
 },
 "nbformat": 4,
 "nbformat_minor": 5
}
