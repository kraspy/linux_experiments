{
 "cells": [
  {
   "cell_type": "markdown",
   "id": "bdc028ec",
   "metadata": {},
   "source": [
    "- [Перебазирование - git-rebase](https://githowto.com/ru/rebasing)\n",
    "- [Git - Book](https://git-scm.com/book/ru/v2)\n",
    "- [Git How To](https://githowto.com/ru)\n",
    "- [Learn Git Branching](https://learngitbranching.js.org/)"
   ]
  },
  {
   "cell_type": "markdown",
   "id": "d7fa283f",
   "metadata": {},
   "source": [
    "## Flow\n",
    "- `fix`: коммит, который устраняет баг\n",
    "- `feat`: коммит, который содержит новый функционал\n",
    "- `chore`: коммит, который не устраняет баг и не вносит новый функционал, а модифицирует или обновляет зависимости\n",
    "- `refactor`: этот коммит содержит рефакторинг, который включает рефакторинг кода или изменения\n",
    "- `docs`: этот коммит изменяет документацию,  readme.md или markdown файлы. \n",
    "- `style`: коммит, который вносит изменения в оформление кода\n",
    "- `test`: коммит, который изменяет тестовый файл, включая изменения\n",
    "- `perf`: коммит, в котором улучшается производительность\n",
    "- `ci`: коммит, в котором содержатся изменения в интеграции CI в файлах или скриптах\n",
    "- `build`: это файлы, которые включают файлы сборки и зависимости\n",
    "- `revert`: коммит, который сигнализирует об откате к предыдущему коммиту"
   ]
  },
  {
   "cell_type": "markdown",
   "id": "e62d0d83",
   "metadata": {},
   "source": [
    "\n",
    "## Заметки\n",
    "### Служебные файлы\n",
    "#### ~/.gitconfig\n",
    "```bash\n",
    "[alias]\n",
    "  co = checkout\n",
    "  ci = commit\n",
    "  st = status\n",
    "  br = branch\n",
    "  hist = log --pretty=format:/\"%h %ad | %s%d [%an]/\" --graph --date=short\n",
    "  type = cat-file -t\n",
    "  dump = cat-file -p\n",
    "```\n",
    "#### .git/\n",
    "```bash\n",
    "/config     # Приоритетнее ~/.gitconfig\n",
    "/HEAD       # Текущая ветка\n",
    "/refs/heads # Все ветки\n",
    "/refs/tags  # Все теги\n",
    "```\n",
    "### Отмена изменений\n",
    "#### Отмена изменений до индексации\n",
    "```bash\n",
    "git checkout file.txt  # Отменить изменений в песочнице\n",
    "```\n",
    "#### Отмена изменений после индексации\n",
    "```bash\n",
    "git reset HEAD file.txt  # Сброс буферной зоны\n",
    "git checkout file.txt    # Отменить изменений в песочнице\n",
    "git reset                # Сбросить весь индекс\n",
    "git reset -- file        # Удалить file из индекса\n",
    "```"
   ]
  },
  {
   "cell_type": "markdown",
   "id": "c473d7ac",
   "metadata": {},
   "source": [
    "### Удаление файлов\n",
    "```bash\n",
    "echo '.vscode' >> .gitignore  # Добавить папку в игнор-лист гита\n",
    "git rm -r --cached .vscode    # Удалить папку из списка отслеживаемых файлов (staging area)\n",
    "git add .gitignore            # Добавить файл в гит\n",
    "git commit -m 'Директория .vscode добавлена в gitignore'  # Зафиксировать изменения в новом коммите\n",
    "git push                      # Запушить\n",
    "```"
   ]
  },
  {
   "cell_type": "markdown",
   "id": "7fad3ade",
   "metadata": {},
   "source": [
    "## [Команды](https://git-scm.com/docs)"
   ]
  },
  {
   "cell_type": "markdown",
   "id": "4d5a482f",
   "metadata": {},
   "source": [
    "### [git config](https://git-scm.com/docs/git-config)\n",
    "Конфигурация\n",
    "```bash\n",
    "--global (~/.gitconfig)\n",
    "--local\n",
    "--list\n",
    "user.name \"My Name\"\n",
    "user.email \"user@mail.com\"\n",
    "merge.tool meld\n",
    "diff.guitool meld\n",
    "core.autocrlf input  # Unix\n",
    "core.autocrlf true   # Win\n",
    "core.safecrlf true   # Unix/Win\n",
    "core.quotepath off\n",
    "core.editor nvim\n",
    "```"
   ]
  },
  {
   "cell_type": "markdown",
   "id": "09e4e6f6",
   "metadata": {},
   "source": [
    "### [git init](https://git-scm.com/docs/git-init)\n",
    "Инициализация репозитория\n",
    "```bash\n",
    "git init\n",
    "```"
   ]
  },
  {
   "cell_type": "markdown",
   "id": "bae06817",
   "metadata": {},
   "source": [
    "### [git add](https://git-scm.com/docs/git-add)\n",
    "Добавление файлов в индекс\n",
    "```bash\n",
    "git add *   # Добавить все\n",
    "git add .   # Добавить все\n",
    "git add -A  # Добавить все\n",
    "git add index.html style.css\n",
    "```"
   ]
  },
  {
   "cell_type": "markdown",
   "id": "dba02386",
   "metadata": {},
   "source": [
    "### [git diff --staged](https://git-scm.com/docs/git-diff)\n",
    "Показать изменения с последнего коммита"
   ]
  },
  {
   "cell_type": "markdown",
   "id": "5208883e",
   "metadata": {},
   "source": [
    "### [git commit](https://git-scm.com/docs/git-commit)\n",
    "```bash\n",
    "git commit\n",
    "git commit -m \"comment\"  # Коммит с комментарием\n",
    "git commit --amend       # Изменить последний коммит\n",
    "```"
   ]
  },
  {
   "cell_type": "markdown",
   "id": "760b9854",
   "metadata": {},
   "source": [
    "### [git status](https://git-scm.com/docs/git-status)\n",
    "Статус отслеживания"
   ]
  },
  {
   "cell_type": "markdown",
   "id": "c386bbd0",
   "metadata": {},
   "source": [
    "### [git log](https://git-scm.com/docs/git-log)\n",
    "Просмотр лога коммитов\n",
    "```bash\n",
    "git log -1  # Количество последних коммитов\n",
    "git log -p  # Показывать что было изменено\n",
    "git log --oneline --graph\n",
    "git log --pretty=oneline --max-count=2\n",
    "git log --pretty=oneline --since='5 minutes ago'\n",
    "git log --pretty=oneline --until='5 minutes ago'\n",
    "git log --pretty=oneline --author=<your name>\n",
    "git log --pretty=oneline --all\n",
    "git log --all --pretty=format:\"%h %cd %s (%an)\" --since='7 days ago'\n",
    "```\n",
    "#### Формат\n",
    "```bash\n",
    "--graph         # дерево коммитов\n",
    "--date=short    # короткие даты\n",
    "--pretty=\"...\"  # Формат вывода\n",
    "%h   # Короткий хэш\n",
    "%d   # дополнения коммита\n",
    "%ad  # дата коммита\n",
    "%s   # комментарий\n",
    "%an  # имя автора\n",
    "```"
   ]
  },
  {
   "cell_type": "markdown",
   "id": "33d88dbe",
   "metadata": {},
   "source": [
    "### [git checkout](https://git-scm.com/docs/git-checkout)\n",
    "Переход к чекауту / Отмена изменений\n",
    "```bash\n",
    "git checkout HEAD file.txt  # Отменить изменения\n",
    "git checkout -- file.txt    # Отменить изменения\n",
    "git checkout master         # Вернуться к последней версии ветки master\n",
    "```"
   ]
  },
  {
   "cell_type": "markdown",
   "id": "830b0acf",
   "metadata": {},
   "source": [
    "### [git-tag](https://git-scm.com/docs/git-tag)\n",
    "Работа с тегами версий\n",
    "```bash\n",
    "git tag tagName       # Создать тег c именем tagName\n",
    "git checkout tagName  # Перейти в коммит c именем tagName\n",
    "git tag               # Посмотреть список созданных тегов\n",
    "git tag -d tagName    # Удаление тега\n",
    "```\n",
    "Сборщик мусора не удалит данные о коммите даже после reset --hard, пока за ней закреплена метка."
   ]
  },
  {
   "cell_type": "markdown",
   "id": "1dd09485",
   "metadata": {},
   "source": [
    "### [git revert](https://git-scm.com/docs/git-revert)\n",
    "Отмена коммита\n",
    "```bash\n",
    "git revert HEAD     # Отмена последнего коммита\n",
    "git revert e123456  # Отмена изменений коммита c хешем e123456\n",
    "```"
   ]
  },
  {
   "cell_type": "markdown",
   "id": "d4c53020",
   "metadata": {},
   "source": [
    "### [git reset](https://git-scm.com/docs/git-reset)\n",
    "Удаление коммитов\n",
    "```bash\n",
    "git reset --hard HEAD    # Жесткое удаление (с файлами)\n",
    "git reset --soft HEAD~2  # Мягкое удаление (без файлов)\n",
    "```"
   ]
  },
  {
   "cell_type": "markdown",
   "id": "676f69d4",
   "metadata": {},
   "source": [
    "### [git commit --amend](https://git-scm.com/book/en/v2/Git-Tools-Rewriting-History)\n",
    "```bash\n",
    "# Внесение изменений в коммит\n",
    "git commit --amend\n",
    "\n",
    "# Тоже, что и\n",
    "git revert HEAD\n",
    "git commit\n",
    "```"
   ]
  },
  {
   "cell_type": "markdown",
   "id": "363b1875",
   "metadata": {},
   "source": [
    "### [git mv](https://git-scm.com/docs/git-mv)\n",
    "Перемещение/переимнование файлов\n",
    "```bash\n",
    "git mv file.txt folder      # Переместить file.txt в каталог folder\n",
    "git mv file.txt index.html  # Переименовать file.txt в index.html\n",
    "```"
   ]
  },
  {
   "cell_type": "markdown",
   "id": "6b99ade3",
   "metadata": {},
   "source": [
    "### [git cat-file](https://git-scm.com/docs/git-cat-file)\n",
    "Информация об объектах\n",
    "```bash\n",
    "git cat-file -t <hash>  # тип объекта\n",
    "git cat-file -p <hash>  # короткое содержание объекта\n",
    "```"
   ]
  },
  {
   "cell_type": "markdown",
   "id": "7fb63cc0",
   "metadata": {},
   "source": [
    "### [git branch](https://git-scm.com/docs/git-branch)\n",
    "Ветвление\n",
    "```bash\n",
    "git branch                             # Показать локальные ветки\n",
    "git branch -a                          # Показать удаленные ветки\n",
    "git branch branchName                  # Создать ветку\n",
    "git checkout branchName                # Перейти на ветку\n",
    "git checkout -b branchName             # Создать и перейти в ветку\n",
    "git checkout -d branchName             # Удалить ветку\n",
    "git branch -D branchName               # Удалить ветку\n",
    "git branch -v                          # Последние изменения в ветках\n",
    "git checkout -b week_1 origin/week_1   # Загрузить ветку из remote\n",
    "git branch --track style origin/style  # Добавить локальную ветку style,\n",
    "# которая отслеживает изменения в удаленной ветке origin/style\n",
    "```"
   ]
  },
  {
   "cell_type": "markdown",
   "id": "57c72051",
   "metadata": {},
   "source": [
    "### [git clone](https://git-scm.com/docs/git-clone)\n",
    "Клонирование репозитория\n",
    "```bash\n",
    "cd ~/git_directory\n",
    "git clone localRepo || linkToRepo  # Клонировать репозиторий\n",
    "git clone --bare hello hello.git   # Чистый репозиторий\n",
    "```"
   ]
  },
  {
   "cell_type": "markdown",
   "id": "0aba52c9",
   "metadata": {},
   "source": [
    "### [git remote](https://git-scm.com/docs/git-remote)\n",
    "Работа с удаленным репозиторием\n",
    "```bash\n",
    "# Добавить удаленный репозиторий к текущей папке\n",
    "git remote                                # Имя удаленного репозитория\n",
    "git remote show origin                    # Подробная информация о репозитории\n",
    "git remote add origin linkToRepo.git      # Добавить удаленный репозиторий\n",
    "git remote -v                             # Список удаленных репозиториев\n",
    "git remote set-url origin linkToRepo.git  # Установить удаленный репозиторий\n",
    "```"
   ]
  },
  {
   "cell_type": "markdown",
   "id": "f8d04021",
   "metadata": {},
   "source": [
    "### [git fetch](https://git-scm.com/docs/git-fetch)\n",
    "Получить object и refs из удаленного репозитория\n",
    "```bash\n",
    "git fetch                # Загрузить измененные объекты\n",
    "git merge origin/master  # Слить изменения с локальной веткой master\n",
    "```"
   ]
  },
  {
   "cell_type": "markdown",
   "id": "f5d2512d",
   "metadata": {},
   "source": [
    "### [git merge](https://git-scm.com/docs/git-merge)\n",
    "Слияние с текущей веткой\n",
    "```bash\n",
    "git checkout master\n",
    "git merge branchName\n",
    "git branch -d branchName\n",
    "```"
   ]
  },
  {
   "cell_type": "markdown",
   "id": "7ae4de08",
   "metadata": {},
   "source": [
    "### [git pull](https://git-scm.com/docs/git-pull)\n",
    "fetch + merge"
   ]
  },
  {
   "cell_type": "markdown",
   "id": "9d7f35fa",
   "metadata": {},
   "source": [
    "### git rm\n",
    "Удаление файлов\n",
    "```bash\n",
    "git rm file         # Удалить файл из индекса и системы\n",
    "git rm -r --cached  # Удалить файл из коммита\n",
    "```\n"
   ]
  },
  {
   "cell_type": "markdown",
   "id": "862dd7e7",
   "metadata": {},
   "source": [
    "### git push\n",
    "Отправить изменения на сервер\n",
    "```bash\n",
    "git push\n",
    "git push origin --delete branchName  # del remote branch\n",
    "git push -u origin master\n",
    "```\n"
   ]
  },
  {
   "cell_type": "markdown",
   "id": "3c372b34",
   "metadata": {},
   "source": [
    "### git stash\n",
    "Временное хранилище\n",
    "```bash\n",
    "git stash                 # Сохранить stash\n",
    "git stash list            # Список stash'ей\n",
    "git stash apply           # добавить последний stash\n",
    "git stash apply stash{n}  # Восстановить n-th stash\n",
    "git stash pop             # Восстановить последний stash и удалить его\n",
    "git stash drop stash{n}   # Удалить n-th stash\n",
    "```"
   ]
  }
 ],
 "metadata": {
  "language_info": {
   "name": "python"
  }
 },
 "nbformat": 4,
 "nbformat_minor": 5
}
