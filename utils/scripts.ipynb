{
 "cells": [
  {
   "cell_type": "markdown",
   "id": "2f708349",
   "metadata": {},
   "source": [
    "## Переменные\n",
    "```bash\n",
    "path=~/dir              # Переменная\n",
    "echo \"$path\"            # ~/dir\n",
    "echo \"${path}2\"         # ~/dir2\n",
    "echo '$path'            # $path\n",
    "echo \"\\$path\"           # $path\n",
    "path=\"$path:/aaa/bbb/\"  # +=\n",
    "\n",
    "# Подстановка команд\n",
    "var=$(pwd)\n",
    "var=`pwd`\n",
    "```"
   ]
  },
  {
   "cell_type": "markdown",
   "id": "9a977bcc",
   "metadata": {},
   "source": [
    "## Математические операции\n",
    "  `+ - / * % `\n",
    "```bash\n",
    "$((1+1))            # 2\n",
    "let var=1+1         # 2\n",
    "let \"var = 1 + 1\"   # 2\n",
    "```"
   ]
  },
  {
   "cell_type": "markdown",
   "id": "8b4da800",
   "metadata": {},
   "source": [
    "## Аргументы\n",
    "  `./script.sh arg1 arg2 arg3 ...`\n",
    "```bash\n",
    "$1   # Первый аргумент\n",
    "$2   # Второй аргумент\n",
    "$0   # Имя скрипта\n",
    "$#   # Количество аргументов\n",
    "$?   # Статус выполнения предыдущей команды\n",
    "```"
   ]
  },
  {
   "cell_type": "markdown",
   "id": "22847b3b",
   "metadata": {},
   "source": [
    "## Условия\n",
    "```bash\n",
    "# Если выражение верно, cond вернет 0, иначе 1\n",
    "if [[ <cond> ]]\n",
    "then\n",
    "# Действия\n",
    "elif [[ <cond> ]]\n",
    "then\n",
    "# Действия\n",
    "else\n",
    "# Действия\n",
    "fi\n",
    "```"
   ]
  },
  {
   "cell_type": "markdown",
   "id": "87d03d6b",
   "metadata": {},
   "source": [
    "## Операторы сравнения\n"
   ]
  },
  {
   "cell_type": "markdown",
   "id": "45ab7456",
   "metadata": {},
   "source": [
    "### Числа\n",
    "```bash\n",
    "-z   # Пустая строка\n",
    "-n   # Не пустая строка\n",
    "-eq  # Равно\n",
    "-ne  # Не равно\n",
    "-lt  # Меньше\n",
    "-gt  # больше\n",
    "-le  # Меньше или равно\n",
    "-ge  # Больше или равно\n",
    "```"
   ]
  },
  {
   "cell_type": "markdown",
   "id": "5e58f3d3",
   "metadata": {},
   "source": [
    "### Строки\n",
    "```bash\n",
    "-z  # Пустая строка\n",
    "-n  # Не пустая строка\n",
    "==  # Равно\n",
    "!=  # Не равно\n",
    "\\<  # Меньше\n",
    "\\>  # больше\n",
    "<=  # Меньше или равно\n",
    ">=  # Больше или равно\n",
    "```\n"
   ]
  },
  {
   "cell_type": "markdown",
   "id": "34867f42",
   "metadata": {},
   "source": [
    "### Файлы\n",
    "```bash\n",
    "-e         # Существует?\n",
    "-d         # Это директория\n",
    "-f         # Это файл\n",
    "-r         # Exists? Read?\n",
    "-s         # Exists? Empty?\n",
    "-r         # Exists? White?\n",
    "-x         # Exists? eXecutable?\n",
    "f1 -nt f2  # f1 новее?\n",
    "f1 -ot f2  # f1 старше?\n",
    "-O         # Exists? User Owner?\n",
    "-G         # Exists? User Group?\n",
    "```\n"
   ]
  },
  {
   "cell_type": "markdown",
   "id": "9aeb4145",
   "metadata": {},
   "source": [
    "## switch/case\n",
    "```bash\n",
    "case <перем> in\n",
    "знач1)\n",
    "  # Действия\n",
    "  ;;\n",
    "знач2)\n",
    "  # Действия\n",
    "  ;;\n",
    "знач3)\n",
    "  # Действия\n",
    "  ;;\n",
    "*)\n",
    "  # Действия по умолчанию\n",
    "esac\n",
    "```\n"
   ]
  },
  {
   "cell_type": "markdown",
   "id": "7d619bcc",
   "metadata": {},
   "source": [
    "## Циклы\n",
    "```bash\n",
    "for перем in список_знач\n",
    "do\n",
    "  # Действия\n",
    "done [ > file.txt ]\n",
    "```\n",
    "```python\n",
    "for (( i=1; i <= 10; i++ ))\n",
    "do\n",
    "echo \"number is $i\"\n",
    "done\n",
    "```\n",
    "```bash\n",
    "while [[ <cond> ]]\n",
    "do\n",
    "  # Действия\n",
    "done\n",
    "```\n",
    "```bash\n",
    "break      # Прервать выполнение цикла\n",
    "continue   # Перети к следующей итерации цикла\n",
    "read перем   # Переменная, введенная пользователем\n",
    "```\n"
   ]
  }
 ],
 "metadata": {
  "kernelspec": {
   "display_name": "linux_experiments",
   "language": "python",
   "name": "python3"
  },
  "language_info": {
   "codemirror_mode": {
    "name": "ipython",
    "version": 3
   },
   "file_extension": ".py",
   "mimetype": "text/x-python",
   "name": "python",
   "nbconvert_exporter": "python",
   "pygments_lexer": "ipython3",
   "version": "3.12.10"
  }
 },
 "nbformat": 4,
 "nbformat_minor": 5
}
