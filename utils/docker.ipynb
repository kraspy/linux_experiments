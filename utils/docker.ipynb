{
 "cells": [
  {
   "cell_type": "markdown",
   "id": "eff8c07e",
   "metadata": {},
   "source": [
    "## docker"
   ]
  },
  {
   "cell_type": "markdown",
   "id": "07d6df50",
   "metadata": {},
   "source": [
    "```sh\n",
    "docker search <name>  # Поиск образа на docker hub\n",
    "docker pull <name>    # Скачать образ по имени\n",
    "```"
   ]
  },
  {
   "cell_type": "markdown",
   "id": "190959ba",
   "metadata": {},
   "source": [
    "```sh\n",
    "docker images       # Список образов\n",
    "docker images name  # Список образов по имени\n",
    "```"
   ]
  },
  {
   "cell_type": "markdown",
   "id": "b2b9c250",
   "metadata": {
    "vscode": {
     "languageId": "plaintext"
    }
   },
   "source": [
    "```sh\n",
    "docker run --name MyCont            # Установкить Имя контейнера\n",
    "           -p 9000:8080             # Внешний:Внутренний Порты\n",
    "           -v /path/to/folder:/www  # Пробросить директорию в контейнер\n",
    "           -d                       # Detached\n",
    "           -it bash                 # Подключиться к запущенному контейнеру\n",
    "           --rm                     # Удалить после завершения\n",
    "           name                     # image name\n",
    "```"
   ]
  },
  {
   "cell_type": "markdown",
   "id": "1ab100f8",
   "metadata": {
    "vscode": {
     "languageId": "plaintext"
    }
   },
   "source": [
    "```sh\n",
    "docker exec -it MyCont bash         # Подключиттся и запустить bash\n",
    "```"
   ]
  },
  {
   "cell_type": "markdown",
   "id": "70097521",
   "metadata": {},
   "source": [
    "```sh\n",
    "docker attach name  # Подключиться к запущенному контейнеру\n",
    "docker npm run      # Выполнить команду\n",
    "```"
   ]
  },
  {
   "cell_type": "markdown",
   "id": "9df50c68",
   "metadata": {},
   "source": [
    "```sh\n",
    "docker cp file.txt cont:/path/to/dest      # Копирование в контейнер\n",
    "docker cp cont:/path/to/file ./local_file  # Копирование из контейнера\n",
    "```"
   ]
  },
  {
   "cell_type": "markdown",
   "id": "52274708",
   "metadata": {},
   "source": [
    "```sh\n",
    "docker stop name     # Остановить контейнер\n",
    "docker start name    # Запустить остановленный контейнер\n",
    "docker restart name  # Перезапуск контейнера\n",
    "```"
   ]
  },
  {
   "cell_type": "markdown",
   "id": "dc95bd30",
   "metadata": {},
   "source": [
    "```sh\n",
    "docker ps       # Список запущенных контейнеров\n",
    "          -a    # Список недавно запущенных контейнеров\n",
    "          -l    # Последний запущенный контейнер\n",
    "          -n 1  # Показать последний 1 контейнер\n",
    "```"
   ]
  },
  {
   "cell_type": "markdown",
   "id": "23c235c4",
   "metadata": {},
   "source": [
    "```sh\n",
    "docker rm MyCont                   # Удалить Контейнер\n",
    "docker rm -f $(docker ps -aq)      # Удалить все контейнеры\n",
    "docker rmi MyCont                  # Удалить Образ\n",
    "docker rmi -f $(docker images -q)  # Удалить все Образы\n",
    "docker system prune -a             # Удалить все\n",
    "```"
   ]
  },
  {
   "cell_type": "markdown",
   "id": "5bba0a9a",
   "metadata": {},
   "source": [
    "```sh\n",
    "docker logs MyCont            # Посмотреть stdout контейнера\n",
    "docker logs -f MyCont         # Подключиться к stdout контейнера\n",
    "docker logs --tail 10 MyCont  # Вывести 10 последних записей stdout\n",
    "docker logs -t MyCont         # Вывести каждую запись со временем\n",
    "docker top MyCont             # Посмотреть процессы контейнера\n",
    "docker inspect MyCont         # Информация о контейнере\n",
    "docker inspect --format='{{ .State.Running }}' MyCont\n",
    "```"
   ]
  },
  {
   "cell_type": "markdown",
   "id": "c17d29b4",
   "metadata": {},
   "source": [
    "```sh\n",
    "docker commit MyCont newMyCont              # Коммит контейнера\n",
    "docker commit -m=\"message\" --author=\"Name\"  # Доп. информация\n",
    "```"
   ]
  },
  {
   "cell_type": "markdown",
   "id": "8e4ab676",
   "metadata": {},
   "source": [
    "## Dockerfile\n",
    "### Запуск\n",
    "```bash\n",
    "docker build -t=\"name:tag\" -f ./path/to/dockerfile\n",
    "```"
   ]
  },
  {
   "cell_type": "markdown",
   "id": "e3b310f7",
   "metadata": {},
   "source": [
    "### Слои\n",
    "```bash\n",
    "# Базовый образ\n",
    "FROM python:3.11-slim             # Указание родительского образа\n",
    "FROM alpine:latest AS stage       # Многостадийная сборка\n",
    "\n",
    "# Автор образа\n",
    "LABEL maintainer=\"email\"          # Современный способ\n",
    "\n",
    "# Переменные сборки\n",
    "ARG VERSION=1.0                   # Аргумент, доступен только во время сборки\n",
    "ENV APP_ENV=prod                  # Переменная окружения (доступна всегда)\n",
    "ENV PYTHONUNBUFFERED=1            # Отключить буферизацию вывода\n",
    "ENV PATH=\"/app/.venv/bin:$PATH\"   # Добавить путь в окружение\n",
    "\n",
    "# Обновление и установка\n",
    "RUN apt update && apt upgrade -y  # Обновление пакетов\n",
    "RUN apt install -y curl git vim   # Установка ПО\n",
    "\n",
    "# Очистка\n",
    "RUN rm -rf /var/lib/apt/lists/*   # Если надо почистить контейнер\n",
    "\n",
    "# Рабочая директория\n",
    "WORKDIR /app                      # Установить рабочую директорию\n",
    "VOLUME /data                      # Объявление точки монтирования\n",
    "\n",
    "# Установка Python-зависимостей\n",
    "COPY requirements.txt .           # Копируем файл зависимостей\n",
    "RUN pip install --no-cache-dir -r requirements.txt  # Установка зависимостей\n",
    "\n",
    "# Копирование файлов\n",
    "COPY . /app/                      # Копирование всего проекта\n",
    "ADD file.tar.gz /data/            # Копирование с автораспаковкой архива\n",
    "ADD https://example.com/file.txt /tmp/file.txt  # Загрузка с URL\n",
    "\n",
    "# Установка прав\n",
    "RUN chmod +x entrypoint.sh        # Сделать файл исполняемым\n",
    "RUN chown -R user:user /app       # Изменить владельца\n",
    "\n",
    "# Пользователь\n",
    "USER appuser                      # Запуск под другим пользователем\n",
    "\n",
    "# Порты\n",
    "EXPOSE 80                         # Документально открыть порт\n",
    "EXPOSE 5000/tcp                   # Явно указать TCP-порт\n",
    "\n",
    "# Команды запуска\n",
    "CMD [\"python\", \"app.py\"]          # Команда по умолчанию\n",
    "ENTRYPOINT [\"./start.sh\"]         # Основная команда, CMD — аргументы к ней\n",
    "CMD [\"--host=0.0.0.0\"]            # Аргументы к entrypoint\n",
    "SHELL [\"/bin/bash\", \"-c\"]         # Установить shell по умолчанию\n",
    "\n",
    "# События сборки\n",
    "ONBUILD COPY . /src               # Выполняется в дочернем образе\n",
    "ONBUILD RUN npm install           # Подготовка для наследования\n",
    "\n",
    "# Проверка состояния контейнера\n",
    "HEALTHCHECK --interval=30s CMD curl -f http://localhost/ || exit 1\n",
    "\n",
    "# Сигнал завершения\n",
    "STOPSIGNAL SIGTERM                # Задать сигнал остановки\n",
    "```"
   ]
  },
  {
   "cell_type": "markdown",
   "id": "a05ac708",
   "metadata": {},
   "source": [
    "### Многостадийная сборка (build → release)\n",
    "```sh\n",
    "FROM node:18 AS builder\n",
    "WORKDIR /app\n",
    "COPY . .\n",
    "RUN npm run build\n",
    "\n",
    "FROM nginx:alpine\n",
    "COPY --from=builder /app/dist /usr/share/nginx/html\n",
    "```"
   ]
  },
  {
   "cell_type": "markdown",
   "id": "35a003a9",
   "metadata": {},
   "source": [
    "## Пуш контейнеров\n",
    "```bash\n",
    "docker login   # Логин\n",
    "docker logout  # Выход\n",
    "docker tag cont:v2 kraspy/cont:v2  # Переименовать контейнер\n",
    "docker push cont:v2 kraspy/cont:v2 # Пуш контейнера на docker hub\n",
    "```"
   ]
  },
  {
   "cell_type": "markdown",
   "id": "b227b394",
   "metadata": {},
   "source": [
    "## Examples\n",
    "```bash\n",
    "# Tags\n",
    "docker build -t myapp:1.0 .\n",
    "docker push myapp:1.0\n",
    "\n",
    "# Volumes\n",
    "docker run -d -v my_volume:/data --name name my_image\n",
    "\n",
    "# Network\n",
    "docker network create my_network\n",
    "docker run -d --network=my_network --name name my_image\n",
    "\n",
    "# Resources\n",
    "docker run -d --name name --memory=500m --cpus=1.0 my_image\n",
    "```"
   ]
  }
 ],
 "metadata": {
  "language_info": {
   "name": "python"
  }
 },
 "nbformat": 4,
 "nbformat_minor": 5
}
