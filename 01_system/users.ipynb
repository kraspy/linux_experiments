{
 "cells": [
  {
   "cell_type": "markdown",
   "id": "cbc47a47",
   "metadata": {},
   "source": [
    "```sh\n",
    "useradd -s /bin/bash -d /home/username -m username  # Добавить пользователя с sh и home\n",
    "useradd -s /usr/sbin/nologin -M username            # Без логина и без создания домашнего каталога\n",
    "adduser user                     # Добавить пользователя через adduser\n",
    "groupadd group                   # Создать новую группу\n",
    "addgroup group                   # Создать группу через addgroup\n",
    "userdel user                     # Удалить пользователя\n",
    "deluser user                     # Удалить пользователя через deluser\n",
    "groupdel group                   # Удалить группу\n",
    "delgroup group                   # Удалить группу через delgroup\n",
    "passwd                           # Изменить пароль текущего пользователя\n",
    "passwd username                  # Изменить пароль другого пользователя\n",
    "usermod -aG new_group username   # Добавить пользователя в дополнительную группу\n",
    "usermod -g new_group username    # Изменить основную группу пользователя\n",
    "chown user:group -R directory    # Изменить владельца и группу рекурсивно для каталога\n",
    "chgrp -R user directory file     # Изменить группу для каталога или файла рекурсивно\n",
    "```"
   ]
  }
 ],
 "metadata": {
  "language_info": {
   "name": "python"
  }
 },
 "nbformat": 4,
 "nbformat_minor": 5
}
