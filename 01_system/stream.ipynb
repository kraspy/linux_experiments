{
 "cells": [
  {
   "cell_type": "markdown",
   "id": "69b63ab6",
   "metadata": {},
   "source": [
    "```bash\n",
    "stdin   # 0\n",
    "stdout  # 1\n",
    "stderr  # 2\n",
    ">   # Передать\n",
    ">>  # Дозаписать\n",
    "<   # Взять\n",
    "|   # Отдать следующей команде\n",
    "tee    # Отправить в файл и на стандартный вывод\n",
    "xargs  # Построчно передать на ввод команде\n",
    "```\n"
   ]
  }
 ],
 "metadata": {
  "language_info": {
   "name": "python"
  }
 },
 "nbformat": 4,
 "nbformat_minor": 5
}
