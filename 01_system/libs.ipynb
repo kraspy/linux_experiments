{
 "cells": [
  {
   "cell_type": "markdown",
   "id": "d91343dd",
   "metadata": {},
   "source": [
    "```bash\n",
    "cat /etc/ld/so.conf  # Список библиотек с путями\n",
    "/lib                 # Библиотеки для /bin\n",
    "/usr/lib             # Библиотеки для /usr/bin\n",
    "ldconfig             # Обновить список библиотек в кэше\n",
    "ldd /bin/ls          # Список библиотек, используемых утилитой\n",
    "\n",
    "# Добавление сторонних библиотек\n",
    "vi /etc/ld.so.conf                    # Можно добавить путь к директории сюда\n",
    "export LD_LIBRARY_PATH=/opt/soft/lib  # либо сюда\n",
    "ldconfig                              # Обновить список библиотек в кэше\n",
    "```"
   ]
  }
 ],
 "metadata": {
  "language_info": {
   "name": "python"
  }
 },
 "nbformat": 4,
 "nbformat_minor": 5
}
