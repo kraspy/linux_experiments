{
 "cells": [
  {
   "cell_type": "markdown",
   "id": "049fcf7b",
   "metadata": {},
   "source": [
    "### devfs (`/dev`)\n",
    "Работа с железом\n",
    "```bash\n",
    "mem      # Образ физической памяти\n",
    "null     # Пустое устройство\n",
    "pts      # Псевдотерминал\n",
    "urandom  # Генератор случайных чисел\n",
    "sdx      # Блочные устройства\n",
    "ttu      # Аппаратные терминалы\n",
    "b  # блочное устройство\n",
    "c  # символьное устройство\n",
    "d  # директория\n",
    "l  # символическая ссылка\n",
    "```"
   ]
  },
  {
   "cell_type": "markdown",
   "id": "7859ed9e",
   "metadata": {},
   "source": [
    "### sysfs (`/sys`)\n",
    "Инфа о драйверах и устройствах\n",
    "```bash\n",
    "devices/  # Все устройства, зарегестрированные в ядре\n",
    "bus/      # Перечень шин\n",
    "drivers/  # Драйверы\n",
    "block/    # Каталог блочных устройств\n",
    "class/    # Группировка по классам\n",
    "```"
   ]
  },
  {
   "cell_type": "markdown",
   "id": "cd7049f8",
   "metadata": {},
   "source": [
    "### procfs (`/proc`)\n",
    "Иерархическое представление процессов\n",
    "```bash\n",
    "PID/      # Инфа о конкретном процессе\n",
    "cpuinfo/  # Инфа о ЦПУ\n",
    "devisec/  # Перечень настроенных устройств\n",
    "mounts/   # Смонтированные файловые системы\n",
    "sys/      # Информация о системе (редактируемая)\n",
    "```"
   ]
  },
  {
   "cell_type": "markdown",
   "id": "d1af29d0",
   "metadata": {},
   "source": [
    "### Управление устройствами\n",
    "```bash\n",
    "lspci     # PCI-устройства\n",
    "lspcmcia  # PCMCIA-устройства\n",
    "lsusb     # Шина USB\n",
    "lshal     # (deprecated) База устройств HAL\n",
    "lshw      # (deprecated) Детальная информация о комплектующих\n",
    "lsmod     # Посмотреть модули ядра\n",
    "modinfo   # Информация о конкретном модулк\n",
    "rmmod     # (deprecated) Удаление модуля из ядра\n",
    "insmod    # (deprecated) Установка модуля в ядро\n",
    "modprobe  # Деликатное удаление/добавление модулей\n",
    "udevadm info     # Получить инфу из БД\n",
    "udevadm trigger  # Запросить события устройства\n",
    "udevadm settle   # Дождаться завершения обработки\n",
    "udevadm control  # Управление демоном\n",
    "udevadm monitor  # Следить за событиями\n",
    "udevadm test     # Симулировать запуск события\n",
    "```"
   ]
  }
 ],
 "metadata": {
  "language_info": {
   "name": "python"
  }
 },
 "nbformat": 4,
 "nbformat_minor": 5
}
