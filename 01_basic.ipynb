{
 "cells": [
  {
   "cell_type": "markdown",
   "id": "498bee67",
   "metadata": {},
   "source": [
    "## Файлы/Директории"
   ]
  },
  {
   "cell_type": "code",
   "execution_count": 10,
   "id": "16c6e2d5",
   "metadata": {
    "vscode": {
     "languageId": "shellscript"
    }
   },
   "outputs": [],
   "source": [
    "%%bash\n",
    "cd ./examples/\n",
    "# cd -\n",
    "# cd ~\n",
    "\n",
    "touch ./{f{1..5},file_{1..5}}.txt\n",
    "\n",
    "rm f?.*\n",
    "\n",
    "mkdir -p ./tmp_dir_{1..5}/another_dir\n",
    "\n",
    "# !! - Последняя команда\n",
    "\n",
    "rm -rf ./*"
   ]
  },
  {
   "cell_type": "code",
   "execution_count": 48,
   "id": "5b968e60",
   "metadata": {
    "vscode": {
     "languageId": "shellscript"
    }
   },
   "outputs": [
    {
     "name": "stdout",
     "output_type": "stream",
     "text": [
      "/Users/kraspy/_code/linux_experiments/examples\n",
      "Mon Sep 29 23:02:07 +07 2025\n",
      "line1\n",
      "line2\n",
      "line3\n",
      "line4\n",
      "line5\n",
      "-rw-r--r--   1 kraspy  staff  106 Sep 29 23:02 file.txt\n",
      "abc\n"
     ]
    }
   ],
   "source": [
    "%%bash\n",
    "cd ./examples\n",
    "\n",
    "echo -e \"$(date)\\nline5\\nline3\\nline2\\nline4\\nline1\" > file.txt\n",
    "\n",
    "pwd >> ./file.txt\n",
    "\n",
    "cat ./file.txt | sort\n",
    "\n",
    "ls -la | grep 'fi'\n",
    "\n",
    "# cat qwe.rty 2> ./errors.txt\n",
    "# cat qwe.rty > output.txt 2> errors.txt\n",
    "# ls file.txt qwe.rty &> all.txt\n",
    "\n",
    "# cat < file.txt\n",
    "\n",
    "ls -la / > /dev/null\n",
    "\n",
    "echo abc | tee file0.txt"
   ]
  }
 ],
 "metadata": {
  "kernelspec": {
   "display_name": "linux-experiments",
   "language": "python",
   "name": "python3"
  },
  "language_info": {
   "codemirror_mode": {
    "name": "ipython",
    "version": 3
   },
   "file_extension": ".py",
   "mimetype": "text/x-python",
   "name": "python",
   "nbconvert_exporter": "python",
   "pygments_lexer": "ipython3",
   "version": "3.12.10"
  }
 },
 "nbformat": 4,
 "nbformat_minor": 5
}
